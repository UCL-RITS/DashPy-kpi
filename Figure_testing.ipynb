{
 "cells": [
  {
   "cell_type": "markdown",
   "metadata": {},
   "source": [
    "# Import modules"
   ]
  },
  {
   "cell_type": "code",
   "execution_count": null,
   "metadata": {
    "collapsed": false
   },
   "outputs": [],
   "source": [
    "import os\n",
    "from tinydb import TinyDB\n",
    "import pandas as pd\n",
    "import time\n",
    "from DashPykpi.kpistats import KpiStats, GitURLs, GraphKPIs"
   ]
  },
  {
   "cell_type": "markdown",
   "metadata": {},
   "source": [
    "# Create DB\n",
    "\n",
    "Need to cover the repos assoicated with the below github user accounts\n",
    "\n",
    "✔ Indicates the repos are covered by rc-softdev-admin account...\n",
    " \n",
    "1. https://github.com/UCL-RITS   ✔\n",
    "1. https://github.com/astro-informatics\n",
    "1. https://github.com/bempp\n",
    "1. https://github.com/DCPROGS\n",
    "1. https://github.com/OPTIMET\n",
    "1. https://github.com/UCL-Biochemical-Engineering\n",
    "1. https://github.com/UCL-CSS\n",
    "1. https://github.com/UCLProgrammingHub\n",
    "1. https://github.com/UCL-HIC\n",
    "1. https://github.com/EIT-team\n",
    "1. https://github.com/Astrophysics-UCL\n",
    "1. https://github.com/Bahler-Lab\n",
    "1. https://github.com/CCPPETMR\n",
    "1. https://github.com/Euclid-OULE3\n",
    "1. https://github.com/FieldingChemistryUCL\n",
    "1. https://github.com/PancreaticProject\n",
    "1. https://github.com/ShapsUcl\n",
    "1. https://github.com/msslsolar\n",
    "1. https://github.com/mssl-plasma-group\n",
    "1. https://github.com/UCL-ShippingGroup"
   ]
  },
  {
   "cell_type": "code",
   "execution_count": null,
   "metadata": {
    "collapsed": false
   },
   "outputs": [],
   "source": [
    "# or... use a list of URLS fetched from the GitURLs class\n",
    "url_fetch = GitURLs()\n",
    "urls = url_fetch.urls\n",
    "print(\"Retrieved {0} urls.\".format(len(urls)))"
   ]
  },
  {
   "cell_type": "code",
   "execution_count": null,
   "metadata": {
    "collapsed": false,
    "scrolled": true
   },
   "outputs": [],
   "source": [
    "# These projects don't exist anymore and break get_repo_stats\n",
    "urls.remove('https://github.com/UCL/ucl')\n",
    "urls.remove('https://github.com/UCL-RITS/ucl-rits')\n",
    "urls"
   ]
  },
  {
   "cell_type": "code",
   "execution_count": null,
   "metadata": {
    "collapsed": true
   },
   "outputs": [],
   "source": [
    "# needed = [\n",
    "#     \"https://github.com/UCL-RITS\",\n",
    "#     \"https://github.com/astro-informatics\",\n",
    "#     \"https://github.com/bempp\",\n",
    "#     \"https://github.com/DCPROGS\",\n",
    "#     \"https://github.com/OPTIMET\",\n",
    "#     \"https://github.com/UCL-Biochemical-Engineering\",\n",
    "#     \"https://github.com/UCL-CSS\",\n",
    "#     \"https://github.com/UCLProgrammingHub\",\n",
    "#     \"https://github.com/UCL-HIC\",\n",
    "#     \"https://github.com/EIT-team\",\n",
    "#     \"https://github.com/Astrophysics-UCL\",\n",
    "#     \"https://github.com/Bahler-Lab\",\n",
    "#     \"https://github.com/CCPPETMR\",\n",
    "#     \"https://github.com/Euclid-OULE3\",\n",
    "#     \"https://github.com/FieldingChemistryUCL\",\n",
    "#     \"https://github.com/PancreaticProject\",\n",
    "#     \"https://github.com/ShapsUcl\",\n",
    "#     \"https://github.com/msslsolar\",\n",
    "#     \"https://github.com/mssl-plasma-group\",\n",
    "#     \"https://github.com/UCL-ShippingGroup\"]\n",
    "    \n",
    "# need_accounts = [n.split('/')[3] for n in needed]\n",
    "# got_accounts = [url.split('/')[-2] for url in urls]"
   ]
  },
  {
   "cell_type": "code",
   "execution_count": null,
   "metadata": {
    "collapsed": false
   },
   "outputs": [],
   "source": [
    "# from github3 import GitHub\n",
    "# fn = open(\"secret_key\")\n",
    "# g = GitHub(token=fn.read().split()[0])\n",
    "\n",
    "# for thing in g.iter_user_repos(login='benlaken'):\n",
    "#     print(thing)\n",
    "    \n",
    "# for need in need_accounts:\n",
    "#     if not need in got_accounts:\n",
    "#         print(\"Missing {0} repos \".format(need, need in got_accounts))\n",
    "#         print(\"    Attempting to access - will work if public\")\n",
    "        \n",
    "#         for thing in g.iter_user_repos(login=need):\n",
    "#             print(\"    {0}\".format(thing))"
   ]
  },
  {
   "cell_type": "code",
   "execution_count": null,
   "metadata": {
    "collapsed": false,
    "scrolled": true
   },
   "outputs": [],
   "source": [
    "#for url in urls:\n",
    "#    user_str, repo_str = url.split('/')[-2:]\n",
    "#    print(url, user_str, repo_str)"
   ]
  },
  {
   "cell_type": "code",
   "execution_count": null,
   "metadata": {
    "collapsed": false,
    "scrolled": true
   },
   "outputs": [],
   "source": [
    "# Run the code to generate a dababase if needed...\n",
    "test = KpiStats(urls=urls)\n",
    "test.work(verbose=False, debug=False, status=True)"
   ]
  },
  {
   "cell_type": "markdown",
   "metadata": {},
   "source": [
    "# Plotting section"
   ]
  },
  {
   "cell_type": "code",
   "execution_count": null,
   "metadata": {
    "collapsed": false
   },
   "outputs": [],
   "source": [
    "db = TinyDB('tinydb_for_KPI.json')"
   ]
  },
  {
   "cell_type": "code",
   "execution_count": null,
   "metadata": {
    "collapsed": false
   },
   "outputs": [],
   "source": [
    "df = pd.DataFrame(db.all())"
   ]
  },
  {
   "cell_type": "code",
   "execution_count": null,
   "metadata": {
    "collapsed": false
   },
   "outputs": [],
   "source": [
    "df"
   ]
  },
  {
   "cell_type": "code",
   "execution_count": null,
   "metadata": {
    "collapsed": false
   },
   "outputs": [],
   "source": [
    "#for n in df['repo_owner']:\n",
    "#    print(n)"
   ]
  },
  {
   "cell_type": "code",
   "execution_count": null,
   "metadata": {
    "collapsed": false
   },
   "outputs": [],
   "source": [
    "running = 0\n",
    "num_repos = 0\n",
    "tmp_hold = {}\n",
    "for n, weekly in enumerate(df['weekly_commits']):\n",
    "    if sum(weekly) > 1:\n",
    "        tmp_hold[df['repo_name'][n]] = weekly\n",
    "        running += sum(weekly)\n",
    "        num_repos += 1\n",
    "print(\"{0:3,} commits, in {1} active repos (out of {2} total repos), during past 52 weeks\".format(\n",
    "        running, num_repos, len(df)))"
   ]
  },
  {
   "cell_type": "code",
   "execution_count": null,
   "metadata": {
    "collapsed": true
   },
   "outputs": [],
   "source": [
    "import numpy as np"
   ]
  },
  {
   "cell_type": "code",
   "execution_count": null,
   "metadata": {
    "collapsed": false
   },
   "outputs": [],
   "source": [
    "tmp = []\n",
    "for n, weekly in enumerate(df['weekly_commits']):\n",
    "    if sum(weekly) > 1:\n",
    "        tmp.append(weekly)\n",
    "\n",
    "tmp = np.array(tmp)\n",
    "tmp = tmp.sum(axis=0)\n",
    "all_weekly_commits = {\"All repos\": tmp}"
   ]
  },
  {
   "cell_type": "code",
   "execution_count": null,
   "metadata": {
    "collapsed": false
   },
   "outputs": [],
   "source": [
    "width=4\n",
    "data = tmp\n",
    "\n",
    "result = data[:(data.size // width) * width].reshape(-1, width).sum(axis=1)\n",
    "result\n",
    "print(52/4)"
   ]
  },
  {
   "cell_type": "code",
   "execution_count": null,
   "metadata": {
    "collapsed": false
   },
   "outputs": [],
   "source": [
    "all_weekly_commits"
   ]
  },
  {
   "cell_type": "markdown",
   "metadata": {
    "collapsed": true
   },
   "source": [
    "## Stacked area chart"
   ]
  },
  {
   "cell_type": "code",
   "execution_count": null,
   "metadata": {
    "collapsed": false
   },
   "outputs": [],
   "source": [
    "#from bokeh.charts import Area, show, output_notebook, defaults\n",
    "#import numpy as np\n",
    "from bokeh.charts import show, output_notebook\n",
    "output_notebook()\n"
   ]
  },
  {
   "cell_type": "code",
   "execution_count": null,
   "metadata": {
    "collapsed": false
   },
   "outputs": [],
   "source": [
    "bk = GraphKPIs()\n",
    "show(bk.weekly_activity(per_repo=False, verbose=True, bin=4))"
   ]
  },
  {
   "cell_type": "code",
   "execution_count": null,
   "metadata": {
    "collapsed": false
   },
   "outputs": [],
   "source": [
    "def weekly_activity(per_repo=False, width = 800, height = 400, give_script_div=False, verbose=False):\n",
    "    \"\"\"Create a stacked area plot covering the past 52 weeks of commit acvitity.\n",
    "    \n",
    "    Plot in the notebook (assuming a TinyDB file exists).\n",
    "    \n",
    "    :Example:\n",
    "    \n",
    "    >>>from DashPykpi.kpistats import GraphKPIs\n",
    "    >>>show(GraphKPIs.weekly_activity())\n",
    "    \"\"\"\n",
    "    #df = self.df\n",
    "    defaults.width = width\n",
    "    defaults.height = height\n",
    "    if per_repo:\n",
    "        running = 0\n",
    "        num_repos = 0\n",
    "        tmp_hold = {}\n",
    "        for n, weekly in enumerate(df['weekly_commits']):\n",
    "            if sum(weekly) > 1:\n",
    "                tmp_hold[df['repo_name'][n]] = weekly\n",
    "                running += sum(weekly)\n",
    "                num_repos += 1\n",
    "        if verbose:\n",
    "            print(\"{0:3,} commits, in {1} active repos (out of {2} total repos), during past 52 weeks\".format(\n",
    "                    running, num_repos, len(df)))\n",
    "        area = Area(tmp_hold, title=\"Commits to all repos\", legend=None,\n",
    "                     stack=True, xlabel='weeks since present ', ylabel='number of commits')\n",
    "        \n",
    "        if give_script_div: \n",
    "            # This is incase you want to add the graphics directly to a HTML template file\n",
    "            script, div = components(area)\n",
    "            return script, div\n",
    "        else:\n",
    "            return(area) \n",
    "    if not per_repo:\n",
    "        tmp = []\n",
    "        for n, weekly in enumerate(df['weekly_commits']):\n",
    "            if sum(weekly) > 1:\n",
    "                tmp.append(weekly)\n",
    "        tmp = np.array(tmp)\n",
    "        tmp = tmp.sum(axis=0)\n",
    "        all_weekly_commits = {\"All repos\": tmp}\n",
    "        area = Area(all_weekly_commits, title=\"Commits to repos\", legend=None,\n",
    "                     stack=True, xlabel='weeks since present ', ylabel='number of commits')\n",
    "        if give_script_div: \n",
    "            # This is incase you want to add the graphics directly to a HTML template file\n",
    "            script, div = components(area)\n",
    "            return script, div\n",
    "        else:\n",
    "            return(area)"
   ]
  },
  {
   "cell_type": "code",
   "execution_count": null,
   "metadata": {
    "collapsed": false
   },
   "outputs": [],
   "source": [
    "show(weekly_activity(per_repo=False, verbose=True))"
   ]
  },
  {
   "cell_type": "code",
   "execution_count": null,
   "metadata": {
    "collapsed": true
   },
   "outputs": [],
   "source": [
    "p = bk.weekly_activity(per_repo=False, verbose=True, bin=4)"
   ]
  },
  {
   "cell_type": "code",
   "execution_count": null,
   "metadata": {
    "collapsed": false
   },
   "outputs": [],
   "source": [
    "p.xaxis."
   ]
  },
  {
   "cell_type": "code",
   "execution_count": null,
   "metadata": {
    "collapsed": false
   },
   "outputs": [],
   "source": [
    "import numpy as np\n",
    "a = np.array([1,2,3,4])"
   ]
  },
  {
   "cell_type": "code",
   "execution_count": null,
   "metadata": {
    "collapsed": false
   },
   "outputs": [],
   "source": [
    "test = []\n",
    "for item in a:\n",
    "    test.append([item] * 4)\n"
   ]
  },
  {
   "cell_type": "code",
   "execution_count": null,
   "metadata": {
    "collapsed": false
   },
   "outputs": [],
   "source": [
    "np.array(test).flatten()"
   ]
  },
  {
   "cell_type": "code",
   "execution_count": null,
   "metadata": {
    "collapsed": true
   },
   "outputs": [],
   "source": []
  }
 ],
 "metadata": {
  "anaconda-cloud": {},
  "kernelspec": {
   "display_name": "Python [default]",
   "language": "python",
   "name": "python3"
  },
  "language_info": {
   "codemirror_mode": {
    "name": "ipython",
    "version": 3
   },
   "file_extension": ".py",
   "mimetype": "text/x-python",
   "name": "python",
   "nbconvert_exporter": "python",
   "pygments_lexer": "ipython3",
   "version": "3.5.2"
  }
 },
 "nbformat": 4,
 "nbformat_minor": 0
}
